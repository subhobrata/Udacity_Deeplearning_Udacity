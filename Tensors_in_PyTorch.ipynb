{
  "nbformat": 4,
  "nbformat_minor": 0,
  "metadata": {
    "colab": {
      "name": "Tensors in PyTorch.ipynb",
      "version": "0.3.2",
      "provenance": [],
      "include_colab_link": true
    },
    "kernelspec": {
      "name": "python3",
      "display_name": "Python 3"
    }
  },
  "cells": [
    {
      "cell_type": "markdown",
      "metadata": {
        "id": "view-in-github",
        "colab_type": "text"
      },
      "source": [
        "<a href=\"https://colab.research.google.com/github/subhobrata/Udacity_Deeplearning_Udacity/blob/master/Tensors_in_PyTorch.ipynb\" target=\"_parent\"><img src=\"https://colab.research.google.com/assets/colab-badge.svg\" alt=\"Open In Colab\"/></a>"
      ]
    },
    {
      "metadata": {
        "id": "tYataNBLll65",
        "colab_type": "code",
        "colab": {}
      },
      "cell_type": "code",
      "source": [
        "%matplotlib inline\n",
        "%config InlineBackend.figure_format = 'retina'\n",
        "\n",
        "import numpy as np\n",
        "import torch\n",
        "\n",
        "import helper"
      ],
      "execution_count": 0,
      "outputs": []
    },
    {
      "metadata": {
        "id": "_ScRvYNfl8OA",
        "colab_type": "code",
        "colab": {
          "base_uri": "https://localhost:8080/",
          "height": 68
        },
        "outputId": "cd663d88-96fb-4d33-b53b-81bce6f639ed"
      },
      "cell_type": "code",
      "source": [
        "x = torch.rand(3,2)\n",
        "x"
      ],
      "execution_count": 3,
      "outputs": [
        {
          "output_type": "execute_result",
          "data": {
            "text/plain": [
              "tensor([[0.8793, 0.7459],\n",
              "        [0.0201, 0.5077],\n",
              "        [0.4701, 0.1235]])"
            ]
          },
          "metadata": {
            "tags": []
          },
          "execution_count": 3
        }
      ]
    },
    {
      "metadata": {
        "id": "zOZZaivImDA_",
        "colab_type": "code",
        "colab": {
          "base_uri": "https://localhost:8080/",
          "height": 34
        },
        "outputId": "33b126a8-c46c-4995-ed0c-60587379f58e"
      },
      "cell_type": "code",
      "source": [
        "type(x)"
      ],
      "execution_count": 4,
      "outputs": [
        {
          "output_type": "execute_result",
          "data": {
            "text/plain": [
              "torch.Tensor"
            ]
          },
          "metadata": {
            "tags": []
          },
          "execution_count": 4
        }
      ]
    },
    {
      "metadata": {
        "id": "7a-iRG1_mJAW",
        "colab_type": "code",
        "colab": {
          "base_uri": "https://localhost:8080/",
          "height": 68
        },
        "outputId": "e9bcd320-02a4-401d-d1e6-7948fc25df12"
      },
      "cell_type": "code",
      "source": [
        "y = torch.ones(x.size())\n",
        "y"
      ],
      "execution_count": 6,
      "outputs": [
        {
          "output_type": "execute_result",
          "data": {
            "text/plain": [
              "tensor([[1., 1.],\n",
              "        [1., 1.],\n",
              "        [1., 1.]])"
            ]
          },
          "metadata": {
            "tags": []
          },
          "execution_count": 6
        }
      ]
    },
    {
      "metadata": {
        "id": "OmZ6PQ0nmUPm",
        "colab_type": "code",
        "colab": {
          "base_uri": "https://localhost:8080/",
          "height": 68
        },
        "outputId": "c05f28dc-47c6-49d8-dc90-db3431428f47"
      },
      "cell_type": "code",
      "source": [
        "z = x+y\n",
        "z"
      ],
      "execution_count": 7,
      "outputs": [
        {
          "output_type": "execute_result",
          "data": {
            "text/plain": [
              "tensor([[1.8793, 1.7459],\n",
              "        [1.0201, 1.5077],\n",
              "        [1.4701, 1.1235]])"
            ]
          },
          "metadata": {
            "tags": []
          },
          "execution_count": 7
        }
      ]
    },
    {
      "metadata": {
        "id": "eWmGeN-0mYbG",
        "colab_type": "code",
        "colab": {
          "base_uri": "https://localhost:8080/",
          "height": 34
        },
        "outputId": "21782bb2-59af-4b47-b5e3-32d9f5e21f1c"
      },
      "cell_type": "code",
      "source": [
        "z[0]"
      ],
      "execution_count": 8,
      "outputs": [
        {
          "output_type": "execute_result",
          "data": {
            "text/plain": [
              "tensor([1.8793, 1.7459])"
            ]
          },
          "metadata": {
            "tags": []
          },
          "execution_count": 8
        }
      ]
    },
    {
      "metadata": {
        "id": "6YCgN4okmf3m",
        "colab_type": "code",
        "colab": {
          "base_uri": "https://localhost:8080/",
          "height": 68
        },
        "outputId": "a075495f-7ecc-42d3-8a51-fca5b5a2ac0b"
      },
      "cell_type": "code",
      "source": [
        "z[:,1:]"
      ],
      "execution_count": 9,
      "outputs": [
        {
          "output_type": "execute_result",
          "data": {
            "text/plain": [
              "tensor([[1.7459],\n",
              "        [1.5077],\n",
              "        [1.1235]])"
            ]
          },
          "metadata": {
            "tags": []
          },
          "execution_count": 9
        }
      ]
    },
    {
      "metadata": {
        "id": "_jRPC21Emspf",
        "colab_type": "code",
        "colab": {
          "base_uri": "https://localhost:8080/",
          "height": 68
        },
        "outputId": "5aafa53b-f35b-49ae-a3bd-3e68addfcb49"
      },
      "cell_type": "code",
      "source": [
        "z.add(1)"
      ],
      "execution_count": 10,
      "outputs": [
        {
          "output_type": "execute_result",
          "data": {
            "text/plain": [
              "tensor([[2.8793, 2.7459],\n",
              "        [2.0201, 2.5077],\n",
              "        [2.4701, 2.1235]])"
            ]
          },
          "metadata": {
            "tags": []
          },
          "execution_count": 10
        }
      ]
    },
    {
      "metadata": {
        "id": "iw0b7XsGmzPG",
        "colab_type": "code",
        "colab": {
          "base_uri": "https://localhost:8080/",
          "height": 68
        },
        "outputId": "ecc266de-1501-427a-9a16-0c331ef624a4"
      },
      "cell_type": "code",
      "source": [
        "z"
      ],
      "execution_count": 11,
      "outputs": [
        {
          "output_type": "execute_result",
          "data": {
            "text/plain": [
              "tensor([[1.8793, 1.7459],\n",
              "        [1.0201, 1.5077],\n",
              "        [1.4701, 1.1235]])"
            ]
          },
          "metadata": {
            "tags": []
          },
          "execution_count": 11
        }
      ]
    },
    {
      "metadata": {
        "id": "LE7FNGDNm0lX",
        "colab_type": "code",
        "colab": {
          "base_uri": "https://localhost:8080/",
          "height": 68
        },
        "outputId": "5b9d9b8e-736e-4bac-813e-5dd3e77c3dd4"
      },
      "cell_type": "code",
      "source": [
        "z.add_(1)"
      ],
      "execution_count": 12,
      "outputs": [
        {
          "output_type": "execute_result",
          "data": {
            "text/plain": [
              "tensor([[2.8793, 2.7459],\n",
              "        [2.0201, 2.5077],\n",
              "        [2.4701, 2.1235]])"
            ]
          },
          "metadata": {
            "tags": []
          },
          "execution_count": 12
        }
      ]
    },
    {
      "metadata": {
        "id": "C59RBtCim8EG",
        "colab_type": "code",
        "colab": {
          "base_uri": "https://localhost:8080/",
          "height": 68
        },
        "outputId": "7089432c-12c1-4b9d-ee43-ca06e3bf51a0"
      },
      "cell_type": "code",
      "source": [
        "z"
      ],
      "execution_count": 13,
      "outputs": [
        {
          "output_type": "execute_result",
          "data": {
            "text/plain": [
              "tensor([[2.8793, 2.7459],\n",
              "        [2.0201, 2.5077],\n",
              "        [2.4701, 2.1235]])"
            ]
          },
          "metadata": {
            "tags": []
          },
          "execution_count": 13
        }
      ]
    },
    {
      "metadata": {
        "id": "rgmddREVm9je",
        "colab_type": "code",
        "colab": {
          "base_uri": "https://localhost:8080/",
          "height": 34
        },
        "outputId": "521868c9-d78e-43db-97b5-fd89c61c977c"
      },
      "cell_type": "code",
      "source": [
        "z.size()"
      ],
      "execution_count": 14,
      "outputs": [
        {
          "output_type": "execute_result",
          "data": {
            "text/plain": [
              "torch.Size([3, 2])"
            ]
          },
          "metadata": {
            "tags": []
          },
          "execution_count": 14
        }
      ]
    },
    {
      "metadata": {
        "id": "OtZQcSpznEzm",
        "colab_type": "code",
        "colab": {
          "base_uri": "https://localhost:8080/",
          "height": 51
        },
        "outputId": "752a8b56-6598-4667-b966-7f207f88ee96"
      },
      "cell_type": "code",
      "source": [
        "z.resize_(2,3)"
      ],
      "execution_count": 15,
      "outputs": [
        {
          "output_type": "execute_result",
          "data": {
            "text/plain": [
              "tensor([[2.8793, 2.7459, 2.0201],\n",
              "        [2.5077, 2.4701, 2.1235]])"
            ]
          },
          "metadata": {
            "tags": []
          },
          "execution_count": 15
        }
      ]
    },
    {
      "metadata": {
        "id": "JXj6201znLno",
        "colab_type": "code",
        "colab": {
          "base_uri": "https://localhost:8080/",
          "height": 51
        },
        "outputId": "e87333ff-4352-49c1-d661-cfcc0a9c00af"
      },
      "cell_type": "code",
      "source": [
        "z"
      ],
      "execution_count": 16,
      "outputs": [
        {
          "output_type": "execute_result",
          "data": {
            "text/plain": [
              "tensor([[2.8793, 2.7459, 2.0201],\n",
              "        [2.5077, 2.4701, 2.1235]])"
            ]
          },
          "metadata": {
            "tags": []
          },
          "execution_count": 16
        }
      ]
    },
    {
      "metadata": {
        "id": "OmA8866QnNzx",
        "colab_type": "code",
        "colab": {}
      },
      "cell_type": "code",
      "source": [
        "a = np.random.rand(4,3)"
      ],
      "execution_count": 0,
      "outputs": []
    },
    {
      "metadata": {
        "id": "GJ5O4FPAna-w",
        "colab_type": "code",
        "colab": {
          "base_uri": "https://localhost:8080/",
          "height": 85
        },
        "outputId": "d0a21cee-72e8-49de-816b-ed18ba71b261"
      },
      "cell_type": "code",
      "source": [
        "a"
      ],
      "execution_count": 18,
      "outputs": [
        {
          "output_type": "execute_result",
          "data": {
            "text/plain": [
              "array([[0.50541896, 0.31887205, 0.2672911 ],\n",
              "       [0.43119533, 0.33207212, 0.05416746],\n",
              "       [0.90438237, 0.16610458, 0.48486545],\n",
              "       [0.3529337 , 0.44156931, 0.27132359]])"
            ]
          },
          "metadata": {
            "tags": []
          },
          "execution_count": 18
        }
      ]
    },
    {
      "metadata": {
        "id": "r1WbxnKvndXz",
        "colab_type": "code",
        "colab": {
          "base_uri": "https://localhost:8080/",
          "height": 85
        },
        "outputId": "cf4bd25a-85ab-4d94-b625-b7cdb28bde48"
      },
      "cell_type": "code",
      "source": [
        "b = torch.from_numpy(a)\n",
        "b"
      ],
      "execution_count": 19,
      "outputs": [
        {
          "output_type": "execute_result",
          "data": {
            "text/plain": [
              "tensor([[0.5054, 0.3189, 0.2673],\n",
              "        [0.4312, 0.3321, 0.0542],\n",
              "        [0.9044, 0.1661, 0.4849],\n",
              "        [0.3529, 0.4416, 0.2713]], dtype=torch.float64)"
            ]
          },
          "metadata": {
            "tags": []
          },
          "execution_count": 19
        }
      ]
    },
    {
      "metadata": {
        "id": "7bsWt4z_nuvH",
        "colab_type": "code",
        "colab": {
          "base_uri": "https://localhost:8080/",
          "height": 34
        },
        "outputId": "95518ac9-9849-4fc9-ee24-6cd7bb48891a"
      },
      "cell_type": "code",
      "source": [
        "type(b)"
      ],
      "execution_count": 20,
      "outputs": [
        {
          "output_type": "execute_result",
          "data": {
            "text/plain": [
              "torch.Tensor"
            ]
          },
          "metadata": {
            "tags": []
          },
          "execution_count": 20
        }
      ]
    },
    {
      "metadata": {
        "id": "w89513u-nyIL",
        "colab_type": "code",
        "colab": {
          "base_uri": "https://localhost:8080/",
          "height": 85
        },
        "outputId": "3bd26e27-fb6b-41c9-e09e-d24fe052e5da"
      },
      "cell_type": "code",
      "source": [
        "b.numpy()"
      ],
      "execution_count": 21,
      "outputs": [
        {
          "output_type": "execute_result",
          "data": {
            "text/plain": [
              "array([[0.50541896, 0.31887205, 0.2672911 ],\n",
              "       [0.43119533, 0.33207212, 0.05416746],\n",
              "       [0.90438237, 0.16610458, 0.48486545],\n",
              "       [0.3529337 , 0.44156931, 0.27132359]])"
            ]
          },
          "metadata": {
            "tags": []
          },
          "execution_count": 21
        }
      ]
    },
    {
      "metadata": {
        "id": "mQJzQ8c8oF54",
        "colab_type": "code",
        "colab": {
          "base_uri": "https://localhost:8080/",
          "height": 34
        },
        "outputId": "e567781a-0401-46e6-8072-c98debb2f73a"
      },
      "cell_type": "code",
      "source": [
        "type(b)"
      ],
      "execution_count": 22,
      "outputs": [
        {
          "output_type": "execute_result",
          "data": {
            "text/plain": [
              "torch.Tensor"
            ]
          },
          "metadata": {
            "tags": []
          },
          "execution_count": 22
        }
      ]
    },
    {
      "metadata": {
        "id": "06qjJkHDoN-t",
        "colab_type": "code",
        "colab": {
          "base_uri": "https://localhost:8080/",
          "height": 85
        },
        "outputId": "bb1156d1-52a5-4f88-fbfd-9bef64c64b6a"
      },
      "cell_type": "code",
      "source": [
        "b.mul_(2)"
      ],
      "execution_count": 23,
      "outputs": [
        {
          "output_type": "execute_result",
          "data": {
            "text/plain": [
              "tensor([[1.0108, 0.6377, 0.5346],\n",
              "        [0.8624, 0.6641, 0.1083],\n",
              "        [1.8088, 0.3322, 0.9697],\n",
              "        [0.7059, 0.8831, 0.5426]], dtype=torch.float64)"
            ]
          },
          "metadata": {
            "tags": []
          },
          "execution_count": 23
        }
      ]
    },
    {
      "metadata": {
        "id": "tH-iK4QpoT7S",
        "colab_type": "code",
        "colab": {
          "base_uri": "https://localhost:8080/",
          "height": 85
        },
        "outputId": "dc5e9a48-bba9-4d1e-9dc9-7f959e6a2bec"
      },
      "cell_type": "code",
      "source": [
        "a"
      ],
      "execution_count": 24,
      "outputs": [
        {
          "output_type": "execute_result",
          "data": {
            "text/plain": [
              "array([[1.01083792, 0.63774409, 0.5345822 ],\n",
              "       [0.86239066, 0.66414425, 0.10833492],\n",
              "       [1.80876474, 0.33220916, 0.9697309 ],\n",
              "       [0.7058674 , 0.88313861, 0.54264717]])"
            ]
          },
          "metadata": {
            "tags": []
          },
          "execution_count": 24
        }
      ]
    }
  ]
}